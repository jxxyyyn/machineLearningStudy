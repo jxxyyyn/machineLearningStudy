{
 "cells": [
  {
   "cell_type": "code",
   "execution_count": 19,
   "id": "58c6c2dc-c472-46da-bec9-675fbc2ee3bb",
   "metadata": {},
   "outputs": [
    {
     "name": "stdout",
     "output_type": "stream",
     "text": [
      "array1 type:  <class 'numpy.ndarray'>\n",
      "array1 형태:  (3,)\n",
      "array2 type:  <class 'numpy.ndarray'>\n",
      "array2 형태:  (2, 3)\n",
      "array3 type:  <class 'numpy.ndarray'>\n",
      "array3 형태:  (1, 3)\n"
     ]
    }
   ],
   "source": [
    "import numpy as np\n",
    "\n",
    "array1 = np.array([1,2,3])\n",
    "print('array1 type: ', type(array1))\n",
    "print('array1 형태: ', array1.shape)\n",
    "\n",
    "array2 = np.array([[1,2,3], [2,3,4]])\n",
    "print('array2 type: ', type(array2))\n",
    "print('array2 형태: ', array2.shape)\n",
    "\n",
    "array3 = np.array([[1,2,3]])\n",
    "print('array3 type: ', type(array3))\n",
    "print('array3 형태: ', array3.shape)"
   ]
  },
  {
   "cell_type": "code",
   "execution_count": 23,
   "id": "83601105-dc9b-4f66-9962-6dfe1a11c3e5",
   "metadata": {},
   "outputs": [
    {
     "name": "stdout",
     "output_type": "stream",
     "text": [
      "array1: 1차원, array2: 2차원, array3: 2차원\n"
     ]
    }
   ],
   "source": [
    "print('array1: {0}차원, array2: {1}차원, array3: {2}차원'.format(array1.ndim, array2.ndim, array3.ndim))"
   ]
  },
  {
   "cell_type": "markdown",
   "id": "8802fc4f-bdfc-497d-9f4a-13797ebd42c7",
   "metadata": {},
   "source": [
    "ndarry내의 데이터 값은 숫자 값, 문자열 값, 불 값 등 모두 가능. 단 한 개의 ndarray 객체에 서로 다른 타입의 데이터를 넣을 수는 없음. \n",
    "객체 내 데이터타입 확인하기 위해 .dtype 사용\n",
    "만약 리스트 내부에 데이터타입 섞여있으면 array로 변환할 때 데이터 크기가 더 큰 데이터 타입으로 일괄 적용함. "
   ]
  },
  {
   "cell_type": "code",
   "execution_count": 31,
   "id": "a9d5b2df-2e57-4151-b63f-058edec15648",
   "metadata": {},
   "outputs": [
    {
     "name": "stdout",
     "output_type": "stream",
     "text": [
      "<class 'list'>\n",
      "<class 'numpy.ndarray'>\n",
      "[1 2 3] int64\n",
      "['1' '2' 'test'] <U21\n",
      "[1. 2. 3.] float64\n"
     ]
    }
   ],
   "source": [
    "list1 = [1, 2, 3]\n",
    "print(type(list1))\n",
    "array = np.array(list1)\n",
    "print(type(array1))\n",
    "print(array1, array1.dtype)\n",
    "\n",
    "list2 =  [1, 2, 'test']\n",
    "array2 =  np.array(list2)\n",
    "print(array2, array2.dtype)\n",
    "list3 =  [1, 2, 3.0]\n",
    "array3 =  np.array(list3)\n",
    "print(array3, array3.d)"
   ]
  },
  {
   "cell_type": "markdown",
   "id": "108e7510-e5c2-467c-a014-a87dba365494",
   "metadata": {},
   "source": [
    "nparray 내의 데이터타입 변경 - astype() 이용. 대용량데이터의 nparray 만들 때 많은 메모리가 사용되면 이를 절약해야 할 때 이용함."
   ]
  },
  {
   "cell_type": "code",
   "execution_count": 35,
   "id": "66edab10-2578-495b-aa71-8155e092fd71",
   "metadata": {},
   "outputs": [
    {
     "name": "stdout",
     "output_type": "stream",
     "text": [
      "[1. 2. 3.] float64\n",
      "[1 2 3] int32\n",
      "[1 2 3] int32\n"
     ]
    }
   ],
   "source": [
    "array_int = np.array([1,2,3])\n",
    "array_float = array_int.astype('float64')\n",
    "print(array_float, array_float.dtype)\n",
    "\n",
    "array_int1 = array_float.astype('int32')\n",
    "print(array_int1, array_int1.dtype)\n",
    "\n",
    "array_float1 = np.array([1.1, 2.1, 3.1])\n",
    "array_int2 = array_float1.astype('int32')\n",
    "print(array_int2, array_int2.dtype)"
   ]
  },
  {
   "cell_type": "markdown",
   "id": "029bcd94-032a-49bd-b445-f7c319a4a766",
   "metadata": {},
   "source": [
    "arange() : array를 range()로 표현함. 0부터 함수인자-1 까지의 값을 순차적으로 nparray의 데이터값으로 변환함. (start값 부여해 다른 수에서부터 시작 가능)  \n",
    "zeros() : 함수 인자로 튜플 형태의 shape값 입력하면 모든 값을 0으로 채운 해당 shape의 nparray 반환.  \n",
    "ones() : 함수 인자로 튜플 형태의 shape값 입력하면 모든 값을 1으로 채운 해당 shape의 nparray 반환. -> 두 메소드의 경우 default dtype : float64"
   ]
  },
  {
   "cell_type": "code",
   "execution_count": 50,
   "id": "22be828d-2d62-4e2c-88aa-2e0603eb06de",
   "metadata": {},
   "outputs": [
    {
     "name": "stdout",
     "output_type": "stream",
     "text": [
      "[0 1 2 3 4 5 6 7 8 9]\n",
      "int64 (10,)\n",
      "[[0 0]\n",
      " [0 0]\n",
      " [0 0]]\n",
      "int32 (3, 2)\n",
      "[[1. 1.]\n",
      " [1. 1.]\n",
      " [1. 1.]]\n",
      "float64 (3, 2)\n"
     ]
    }
   ],
   "source": [
    "sequence_array = np.arange(10)\n",
    "print(sequence_array)\n",
    "print(sequence_array.dtype, sequence_array.shape)\n",
    "\n",
    "zero_array = np.zeros((3,2), dtype = 'int32')\n",
    "print(zero_array)\n",
    "print(zero_array.dtype, zero_array.shape)\n",
    "\n",
    "one_array = np.ones((3,2))\n",
    "print(one_array)\n",
    "print(one_array.dtype, one_array.shape)"
   ]
  },
  {
   "cell_type": "markdown",
   "id": "1f1ef96e-9287-4a7a-aa42-4ea66f63e5e0",
   "metadata": {},
   "source": [
    "reshape() : nparray를 특정 차원 및 크기로 변환함  \n",
    "-1을 인자로 사용하면 원래의 nparray와 호환되는 새로운 shape로 변환해줌.  \n",
    "reshape(-1, 1)은 원본 nparray가 어떤 형태라도 2차원이고, 여러 개의 row를 가지되 반드시 한 개의 칼럼을 가진 ndarray로 변환시킴. 해당 내용은 여러개의 array를 stack이나 concat으로 결합할 때 형태를 통일하기 위해 유용하게 사용됨.  \n",
    "+) ndarray는 tolist() 메서드를 이용해 리스트 자료형으로 변환할 수 있음."
   ]
  },
  {
   "cell_type": "code",
   "execution_count": 54,
   "id": "e4f11b59-81b5-4817-9313-1be371b7e69c",
   "metadata": {},
   "outputs": [
    {
     "name": "stdout",
     "output_type": "stream",
     "text": [
      "array1:\n",
      " [0 1 2 3 4 5 6 7 8 9]\n",
      "array2:\n",
      " [[0 1 2 3 4]\n",
      " [5 6 7 8 9]]\n",
      "array3:\n",
      " [[0 1]\n",
      " [2 3]\n",
      " [4 5]\n",
      " [6 7]\n",
      " [8 9]]\n"
     ]
    }
   ],
   "source": [
    "array1 = np.arange(10)\n",
    "print('array1:\\n', array1)\n",
    "\n",
    "array2 = array1.reshape(2,5)\n",
    "print('array2:\\n', array2)\n",
    "\n",
    "array3 = array1.reshape(5,2)\n",
    "print('array3:\\n', array3) \n"
   ]
  },
  {
   "cell_type": "code",
   "execution_count": 57,
   "id": "15e87434-7809-44a8-a405-bcf1b62919bc",
   "metadata": {},
   "outputs": [
    {
     "name": "stdout",
     "output_type": "stream",
     "text": [
      "[0 1 2 3 4 5 6 7 8 9]\n",
      "array2 shape:  (2, 5)\n",
      "array3 shape:  (5, 2)\n"
     ]
    }
   ],
   "source": [
    "array1= np.arange(10)\n",
    "print(array1)\n",
    "array2 = array1.reshape(-1, 5)\n",
    "print('array2 shape: ', array2.shape)\n",
    "array3 = array1.reshape(5, -1)\n",
    "print('array3 shape: ', array3.shape)"
   ]
  },
  {
   "cell_type": "code",
   "execution_count": 66,
   "id": "9f28f453-f9c1-410c-bbf9-5292efb582ff",
   "metadata": {},
   "outputs": [
    {
     "name": "stdout",
     "output_type": "stream",
     "text": [
      "array3:\n",
      " [[[0, 1], [2, 3]], [[4, 5], [6, 7]]]\n",
      "array5:\n",
      " [[0], [1], [2], [3], [4], [5], [6], [7]]\n",
      "array5 shape: (8, 1)\n",
      "array6:\n",
      " [[0], [1], [2], [3], [4], [5], [6], [7]]\n",
      "array6 shape: (8, 1)\n"
     ]
    }
   ],
   "source": [
    "array1 = np.arange(8)\n",
    "array3d = array1.reshape((2,2,2))\n",
    "print('array3:\\n', array3d.tolist())\n",
    "\n",
    "array5 = array3d.reshape(-1, 1)\n",
    "print('array5:\\n', array5.tolist())\n",
    "print('array5 shape:', array5.shape)\n",
    "\n",
    "array6 = array1.reshape(-1, 1)\n",
    "print('array6:\\n', array6.tolist())\n",
    "print('array6 shape:', array6.shape)"
   ]
  },
  {
   "cell_type": "markdown",
   "id": "67999081-38af-4dae-adec-f0c13a1a6514",
   "metadata": {},
   "source": [
    "인덱싱 관련 내용  \n",
    "1. 특정한 데이터만 추출: 원하는 위치의 인덱스 값을 지정하면 해당 위치로 데이터가 반환됨, 단일 인덱스를 이용해 nparray 내의 데이터값 간단히 수정 가능\n",
    "2. 슬라이싱: 연속된 인덱스상의 ndarray를 추출함. 시작 인덱스~종료인덱스-1 위치에 있는 데이터의 nparray 반환\n",
    "3. 팬시 인덱싱: 일정한 인덱싱 집합을 리스트 또는 ndarray 형태로 지정해 해당 위치에 있는 데이터의 ndarray 반환\n",
    "4. 불린 인덱싱: 특정 조건에 해당하는지 여부인 True/False 값 인덱싱 집합을 기반으로 True에 해당하는 인덱스 위치에 있는 데이터의 ndarray 반환"
   ]
  },
  {
   "cell_type": "code",
   "execution_count": 78,
   "id": "ede42439-b0a4-491e-bf5c-91a23f2501bf",
   "metadata": {},
   "outputs": [
    {
     "name": "stdout",
     "output_type": "stream",
     "text": [
      "array1:  [1 2 3 4 5 6 7 8 9]\n",
      "value:  3\n",
      "<class 'numpy.int64'>\n",
      "[9 8 3 4 5 6 7 8 9]\n",
      "[[1 2 3]\n",
      " [4 5 6]\n",
      " [7 8 9]]\n"
     ]
    }
   ],
   "source": [
    "array1 = np.arange(start=1, stop=10)\n",
    "print('array1: ', array1)\n",
    "value = array1[2]\n",
    "print('value: ', value)\n",
    "print(type(value))\n",
    "\n",
    "array1[0] = 9\n",
    "array1[1] = 8\n",
    "print(array1)\n",
    "\n",
    "#다차원의 nparray에서 단일값 추출하기\n",
    "#axis 0: row 방향에서의 축, axis 1: column 방향에서의 축\n",
    "array1d = np.arange(start=1, stop=10)\n",
    "array2d = array1d.reshape(3, 3)\n",
    "print(array2d)"
   ]
  },
  {
   "cell_type": "code",
   "execution_count": 84,
   "id": "507c5107-6399-48c6-91ba-0b17b176f5f9",
   "metadata": {},
   "outputs": [
    {
     "name": "stdout",
     "output_type": "stream",
     "text": [
      "[1 2 3]\n",
      "<class 'numpy.ndarray'>\n",
      "array2d:\n",
      " [[1 2 3]\n",
      " [4 5 6]\n",
      " [7 8 9]]\n",
      "array2d[0:2, 0:2]:\n",
      " [[1 2]\n",
      " [4 5]]\n",
      "array2d[1:3, 0:2]:\n",
      " [[4 5]\n",
      " [7 8]]\n",
      "array2d[1:3, :]:\n",
      " [[4 5 6]\n",
      " [7 8 9]]\n",
      "array2d[:, :]:\n",
      " [[1 2 3]\n",
      " [4 5 6]\n",
      " [7 8 9]]\n",
      "array2d[:2, 1:]:\n",
      " [[2 3]\n",
      " [5 6]]\n",
      "array2d[:2, 0]:\n",
      " [1 4]\n",
      "[1 2 3]\n",
      "[4 5 6]\n",
      "array2d[0] shape:  (3,) array2d[1] shape (3,)\n"
     ]
    }
   ],
   "source": [
    "array1 = np.arange(start=1, stop=10)\n",
    "array3 = array1[0:3]\n",
    "print(array3)\n",
    "print(type(array3))\n",
    "\n",
    "#2차원에서 슬라이싱하기\n",
    "array1d = array1\n",
    "array2d = array1d.reshape(3,3)\n",
    "print('array2d:\\n', array2d)\n",
    "\n",
    "print('array2d[0:2, 0:2]:\\n', array2d[0:2, 0:2])\n",
    "print('array2d[1:3, 0:2]:\\n', array2d[1:3, 0:2])\n",
    "print('array2d[1:3, :]:\\n', array2d[1:3, :])\n",
    "print('array2d[:, :]:\\n', array2d[:, :])\n",
    "print('array2d[:2, 1:]:\\n', array2d[:2, 1:])\n",
    "print('array2d[:2, 0]:\\n', array2d[:2, 0])\n",
    "\n",
    "print(array2d[0])\n",
    "print(array2d[1])\n",
    "print('array2d[0] shape: ', array2d[0].shape, 'array2d[1] shape', array2d[1].shape)"
   ]
  },
  {
   "cell_type": "code",
   "execution_count": 86,
   "id": "fbda7b21-d8f1-41e9-81ea-5a4948ea3fd4",
   "metadata": {},
   "outputs": [
    {
     "name": "stdout",
     "output_type": "stream",
     "text": [
      "array2d[[0, 1], 2] =>  [3, 6]\n",
      "array2d[[0,1], 0:2] =>  [[1, 2], [4, 5]]\n",
      "array2d[[0, 1]] =>  [[1, 2, 3], [4, 5, 6]]\n"
     ]
    }
   ],
   "source": [
    "array1d = np.arange(start=1, stop=10)\n",
    "array2d = array1d.reshape(3,3)\n",
    "\n",
    "array3 = array2d[[0, 1], 2]\n",
    "print('array2d[[0, 1], 2] => ', array3.tolist())\n",
    "\n",
    "array4 = array2d[[0,1], 0:2]\n",
    "print('array2d[[0,1], 0:2] => ', array4.tolist())\n",
    "\n",
    "array5 = array2d[[0, 1]]\n",
    "print('array2d[[0, 1]] => ', array5.tolist())"
   ]
  },
  {
   "cell_type": "code",
   "execution_count": 96,
   "id": "34ca26a6-dafd-43a8-a65b-8bdc41cdd5c5",
   "metadata": {},
   "outputs": [
    {
     "name": "stdout",
     "output_type": "stream",
     "text": [
      "array1d 불린 인덱싱 결과 값:  [6 7 8 9]\n",
      "불린 인덱스로 필터링 결과:  [6 7 8 9]\n"
     ]
    }
   ],
   "source": [
    "array1d = np.arange(start=1, stop=10)\n",
    "array3 = array1d[array1d>5]\n",
    "print('array1d 불린 인덱싱 결과 값: ', array3)\n",
    "\n",
    "array1d > 5\n",
    "boolean_indexes = np.array([False, False, False, False, False,  True,  True,  True,  True])\n",
    "array4 = array1d[boolean_indexes]\n",
    "print('불린 인덱스로 필터링 결과: ', array4)"
   ]
  },
  {
   "cell_type": "markdown",
   "id": "ff977682-5fe2-4642-88f5-417a130f3a93",
   "metadata": {},
   "source": [
    "행렬 정렬 1. np.sort() / 2. ndarray.sort()  \n",
    "1. 원 행렬은 그대로 유지한 채 원 행렬의 정렬된 행렬을 반환\n",
    "2. 원 행렬 자체를 정렬한 형태로 변환, 반환값은 None"
   ]
  },
  {
   "cell_type": "code",
   "execution_count": 107,
   "id": "dfd646d8-aec5-4e77-b791-bd83e45694ee",
   "metadata": {},
   "outputs": [
    {
     "name": "stdout",
     "output_type": "stream",
     "text": [
      "원본 행렬:  [3 1 9 5]\n",
      "np.sort() 호출 후 반환된 정렬 행렬:  [1 3 5 9]\n",
      "np.sort() 호출 후 원본 행렬:  [3 1 9 5]\n",
      "org_array.sort() 호출 후 반환된 정렬 행렬:  None\n",
      "org_array.sort() 호출 후 원본 행렬:  [1 3 5 9]\n",
      "내림차순으로 정렬:  [9 5 3 1]\n",
      "로우 방향으로 정렬 :\n",
      " [[ 7  1]\n",
      " [ 8 12]]\n",
      "칼럼 방향으로 정렬 :\n",
      " [[ 8 12]\n",
      " [ 1  7]]\n"
     ]
    }
   ],
   "source": [
    "org_array = np.array([3, 1, 9, 5])\n",
    "print('원본 행렬: ', org_array)\n",
    "\n",
    "sort_array1 = np.sort(org_array)\n",
    "print('np.sort() 호출 후 반환된 정렬 행렬: ', sort_array1)\n",
    "print('np.sort() 호출 후 원본 행렬: ', org_array)\n",
    "\n",
    "sort_array2 = org_array.sort()\n",
    "print('org_array.sort() 호출 후 반환된 정렬 행렬: ', sort_array2)\n",
    "print('org_array.sort() 호출 후 원본 행렬: ', org_array)\n",
    "\n",
    "#내림차순으로 정렬할 때는 [::-1] 적용\n",
    "sort_array1_desc = np.sort(org_array)[::-1]\n",
    "print('내림차순으로 정렬: ', sort_array1_desc)\n",
    "\n",
    "#행렬이 2차원 이상일 경우에는 axis 축 값 설정을 통해 로우 방향, 칼럼 방향으로 정렬 수행할 수 있음\n",
    "array2d = np.array([[8, 12], [7, 1]])\n",
    "sort_array2d_axis0 = np.sort(array2d, axis=0)\n",
    "print('로우 방향으로 정렬 :\\n', sort_array2d_axis0)\n",
    "sort_array2d_axis1 = np.sort(array2d, axis=1)\n",
    "print('칼럼 방향으로 정렬 :\\n', sort_array2d_axis1)"
   ]
  },
  {
   "cell_type": "markdown",
   "id": "d850a58d-d826-4c07-be41-090351293340",
   "metadata": {},
   "source": [
    "np.argsort() : 원본 행렬이 정렬되었을 때 기존 원본 행렬의 원소에 대한 인덱스를 필요로 할 때, 정렬 행렬의 원본 행렬 인덱스를 ndarray형으로 반환  \n",
    "  \n",
    "ndarray는 table, df처럼 메타데이터를 가질 수 없기 때문에 실제 값과 그 값이 뜻하는 메타데이터를 별도의 ndarray로 각각 가져야 함. 이때 시험 성적순으로 학생 이름을 출력하고자 한다면 np.argsort(score_array)를 이용해 반환된 인덱스를 name_array에 팬시 인덱스로 적용해 추출할 수 있음."
   ]
  },
  {
   "cell_type": "code",
   "execution_count": 112,
   "id": "f06ddb0b-622f-4b79-80ef-11eb73b1affe",
   "metadata": {},
   "outputs": [
    {
     "name": "stdout",
     "output_type": "stream",
     "text": [
      "<class 'numpy.ndarray'>\n",
      "행렬 정렬 시 원본 행렬의 인덱스:  [1 0 3 2]\n"
     ]
    }
   ],
   "source": [
    "org_array = np.array([3, 1, 9, 5])\n",
    "sort_indices = np.argsort(org_array)\n",
    "print(type(sort_indices))\n",
    "print('행렬 정렬 시 원본 행렬의 인덱스: ', sort_indices)\n",
    "#내림차순으로 정렬 시에 원본 행렬의 인덱스를 구하면 [::-1] 동일하게 사용함"
   ]
  },
  {
   "cell_type": "markdown",
   "id": "47e027bc-000f-44a4-aaee-bd83f631807c",
   "metadata": {},
   "source": [
    "행렬 내적(행렬곱) : np.dot()을 이용해 계산"
   ]
  },
  {
   "cell_type": "code",
   "execution_count": 114,
   "id": "0cf9ac03-56d1-47c8-b97a-295ff8465ccb",
   "metadata": {},
   "outputs": [
    {
     "name": "stdout",
     "output_type": "stream",
     "text": [
      "행렬 내적 결과:\n",
      " [[ 58  64]\n",
      " [139 154]]\n"
     ]
    }
   ],
   "source": [
    "A = np.array([[1, 2, 3], [4, 5, 6]])\n",
    "B = np.array([[7, 8], [9,10], [11,12]])\n",
    "dot_product = np.dot(A, B)\n",
    "print('행렬 내적 결과:\\n', dot_product)"
   ]
  },
  {
   "cell_type": "markdown",
   "id": "f1da25da-8a6f-4d0c-819a-6c9552be7cd2",
   "metadata": {},
   "source": [
    "전치행렬: np.transpose()"
   ]
  },
  {
   "cell_type": "code",
   "execution_count": 121,
   "id": "902178c9-7447-40de-a107-7dc50e777d85",
   "metadata": {},
   "outputs": [
    {
     "name": "stdout",
     "output_type": "stream",
     "text": [
      "A의 전치 행렬:\n",
      " [[1 3]\n",
      " [2 4]]\n"
     ]
    }
   ],
   "source": [
    "A = np.array([[1, 2], [3,4]])\n",
    "transpose_A = np.transpose(A)\n",
    "print('A의 전치 행렬:\\n', transpose_A)"
   ]
  }
 ],
 "metadata": {
  "kernelspec": {
   "display_name": "Python 3 (ipykernel)",
   "language": "python",
   "name": "python3"
  },
  "language_info": {
   "codemirror_mode": {
    "name": "ipython",
    "version": 3
   },
   "file_extension": ".py",
   "mimetype": "text/x-python",
   "name": "python",
   "nbconvert_exporter": "python",
   "pygments_lexer": "ipython3",
   "version": "3.11.7"
  }
 },
 "nbformat": 4,
 "nbformat_minor": 5
}
